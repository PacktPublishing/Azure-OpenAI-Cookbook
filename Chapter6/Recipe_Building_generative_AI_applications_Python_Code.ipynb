{
 "cells": [
  {
   "cell_type": "code",
   "execution_count": null,
   "id": "e536a9ee",
   "metadata": {},
   "outputs": [],
   "source": [
    "from promptflow import tool\n",
    "import pandas as pd\n",
    "@tool\n",
    "def fetch_data_summary(input: str) -> str:\n",
    " \"\"\"\n",
    " Fetches CSV data from a specified URL, returns the column \n",
    "names and the first row of data as a string.\n",
    " Args:\n",
    " input (str): The URL from which to fetch the CSV data.\n",
    " Returns:\n",
    " str: A string containing the column names and the first row \n",
    "of data.\n",
    " \"\"\"\n",
    " df = pd.read_csv(input)\n",
    " # Combine column names and the first row into a single \n",
    "string\n",
    " summary = 'Columns: ' + ', '.join(df.columns) + ' | First \n",
    "Row: ' + ', '.join(df.iloc[0].astype(str))\n",
    " return summary"
   ]
  }
 ],
 "metadata": {
  "kernelspec": {
   "display_name": "Python 3",
   "language": "python",
   "name": "python3"
  },
  "language_info": {
   "codemirror_mode": {
    "name": "ipython",
    "version": 3
   },
   "file_extension": ".py",
   "mimetype": "text/x-python",
   "name": "python",
   "nbconvert_exporter": "python",
   "pygments_lexer": "ipython3",
   "version": "3.8.8"
  }
 },
 "nbformat": 4,
 "nbformat_minor": 5
}
