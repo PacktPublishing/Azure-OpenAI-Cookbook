{
 "cells": [
  {
   "cell_type": "code",
   "execution_count": null,
   "id": "670e6826",
   "metadata": {},
   "outputs": [],
   "source": [
    "import pandas as pd\n",
    "import matplotlib.pyplot as plt\n",
    "data = {\n",
    "    \"toyType\": [\"Action Figure\", \"Puzzle\", \"Board Game\", \"Action Figure\", \"Puzzle\", \"Board Game\"],\n",
    "    \"sales_AMOUNT\": [100, 150, 200, 110, 120, 250],\n",
    "    \"DATE\": [\"2024-01-01\", \"2024-01-01\", \"2024-01-01\", \"2024-01-02\", \"2024-01-02\", \"2024-01-02\"]\n",
    "}\n",
    "df = pd.DataFrame(data)\n",
    "df[\"DATE\"] = pd.to_datetime(df[\"DATE\"])\n",
    "sales_summary = df.groupby(\"DATE\")[\"sales_AMOUNT\"].sum().reset_index()\n",
    "plt.figure(figsize=(10, 6))\n",
    "plt.plot(sales_summary[\"DATE\"], sales_summary[\"sales_AMOUNT\"], marker=\"o\", linestyle=\"-\", color=\"blue\")\n",
    "plt.title(\"Sales Over Time\")\n",
    "plt.xlabel(\"Date\")\n",
    "plt.ylabel(\"Sales\")\n",
    "plt.grid(True)\n",
    "plt.xticks(rotation=45)\n",
    "plt.tight_layout()\n",
    "plt.show()\n"
   ]
  },
  {
   "cell_type": "code",
   "execution_count": null,
   "id": "445b78e6",
   "metadata": {},
   "outputs": [],
   "source": []
  }
 ],
 "metadata": {
  "kernelspec": {
   "display_name": "Python 3",
   "language": "python",
   "name": "python3"
  },
  "language_info": {
   "codemirror_mode": {
    "name": "ipython",
    "version": 3
   },
   "file_extension": ".py",
   "mimetype": "text/x-python",
   "name": "python",
   "nbconvert_exporter": "python",
   "pygments_lexer": "ipython3",
   "version": "3.8.8"
  }
 },
 "nbformat": 4,
 "nbformat_minor": 5
}
