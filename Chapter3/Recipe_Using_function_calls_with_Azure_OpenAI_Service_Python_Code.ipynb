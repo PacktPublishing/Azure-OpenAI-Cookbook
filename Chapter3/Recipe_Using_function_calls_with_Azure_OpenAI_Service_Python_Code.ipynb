{
 "cells": [
  {
   "cell_type": "code",
   "execution_count": null,
   "id": "8863364c",
   "metadata": {},
   "outputs": [],
   "source": [
    "# Import Libraries\n",
    "import json\n",
    "import os\n",
    "from openai import AzureOpenAI"
   ]
  },
  {
   "cell_type": "code",
   "execution_count": null,
   "id": "e60759ec",
   "metadata": {},
   "outputs": [],
   "source": [
    "# Set the environment variables\n",
    "os.environ[\"AZURE_OPENAI_API_KEY\"] = \"REPLACE_WITH_YOUR_KEY_VALUE\"\n",
    "os.environ[\"AZURE_OPENAI_ENDPOINT\"] = \"REPLACE_WITH_YOUR_ENDPOINT\""
   ]
  },
  {
   "cell_type": "code",
   "execution_count": null,
   "id": "557588bb",
   "metadata": {},
   "outputs": [],
   "source": [
    "# Create a client object with preview version\n",
    "client = AzureOpenAI(\n",
    " azure_endpoint = os.getenv(\"AZURE_OPENAI_ENDPOINT\"), \n",
    " api_key=os.getenv(\"AZURE_OPENAI_API_KEY\"), \n",
    " api_version=\"2024-03-01-preview\"\n",
    ")"
   ]
  },
  {
   "cell_type": "code",
   "execution_count": null,
   "id": "4e9c8208",
   "metadata": {},
   "outputs": [],
   "source": [
    "# Function to convert meters to inches\n",
    "def convert_meters_to_inches(meters):\n",
    "    \"\"\"Convert meters to inches\"\"\"\n",
    "    inches = round(meters * 39.37, 3)  # 1 meter is approximately 39.37 inches\n",
    "    return json.dumps({\"meters\": meters, \"inches\": inches})"
   ]
  },
  {
   "cell_type": "code",
   "execution_count": null,
   "id": "02605814",
   "metadata": {},
   "outputs": [],
   "source": [
    "# Example usage of the function\n",
    "meters_input = 1.5  # Example input in meters\n",
    "conversion_result = convert_meters_to_inches(meters_input)\n",
    "print(f\"Conversion result: {conversion_result}\")"
   ]
  },
  {
   "cell_type": "code",
   "execution_count": null,
   "id": "fa12d531",
   "metadata": {},
   "outputs": [],
   "source": [
    "# Set System Message\n",
    "system_message = \"\"\"You are a helpful scientific assistant.\"\"\""
   ]
  },
  {
   "cell_type": "code",
   "execution_count": null,
   "id": "9af0f426",
   "metadata": {},
   "outputs": [],
   "source": [
    "user_message = \"\"\"The distance from the Earth to the moon is \n",
    "roughly 384,000,000 meters. What is this distance in inches?\"\"\""
   ]
  },
  {
   "cell_type": "code",
   "execution_count": null,
   "id": "29f4064a",
   "metadata": {},
   "outputs": [],
   "source": [
    "# Set your model deployments\n",
    "deployment_4 = \"your-gpt-4-model\"\n",
    "deployment_3_turbo = \"your-gpt-3.5-turbo-model\""
   ]
  },
  {
   "cell_type": "code",
   "execution_count": null,
   "id": "b039061b",
   "metadata": {},
   "outputs": [],
   "source": [
    "# Define messages\n",
    "messages = [\n",
    "    {\"role\": \"system\", \"content\": system_message},\n",
    "    {\"role\": \"user\", \"content\": user_message},\n",
    "]"
   ]
  },
  {
   "cell_type": "code",
   "execution_count": null,
   "id": "47ee5a32",
   "metadata": {},
   "outputs": [],
   "source": [
    "# Create System and User Messages\n",
    "system_message = \"\"\"You are a translation assistant. A user will provide you with a text to translate between triple pluses\n",
    "(+++), a target language between triple stars (***), and context \n",
    "around the translation between triple ampersands (&&&).\"\"\"\n",
    "\n",
    "user_message = \"\"\"+++Dear customer, we regret to inform that the \n",
    "item you ordered is currently-out-of-stock.+++ ***Spanish*** \n",
    "&&&We are trying to send detailed yet polite e-mails to \n",
    "customers.&&&\"\"\""
   ]
  },
  {
   "cell_type": "code",
   "execution_count": null,
   "id": "80c0c3bd",
   "metadata": {},
   "outputs": [],
   "source": [
    "# Create a tool object\n",
    "tools = [\n",
    "    {\"type\": \"function\",\n",
    "     \"function\": {\n",
    "         \"name\": \"convert_meters_to_inches\",\n",
    "         \"description\": \"Converts meters to inches\",\n",
    "         \"parameters\": {\n",
    "             \"type\": \"object\",\n",
    "             \"properties\": {\n",
    "                 \"meters\": {\n",
    "                     \"type\": \"number\",\n",
    "                     \"description\": \"The length in meters to be converted to inches\"\n",
    "                 }\n",
    "             },\n",
    "             \"required\": [\"meters\"]\n",
    "         }\n",
    "     }\n",
    "    }\n",
    "]\n"
   ]
  },
  {
   "cell_type": "code",
   "execution_count": null,
   "id": "a8a38f92",
   "metadata": {},
   "outputs": [],
   "source": [
    "# Obtain Response\n",
    "response = client.chat.completions.create(\n",
    "    model=deployment_4,\n",
    "    messages=messages,\n",
    "    tools=tools,\n",
    "    tool_choice=\"auto\"\n",
    ")"
   ]
  },
  {
   "cell_type": "code",
   "execution_count": null,
   "id": "f136297a",
   "metadata": {},
   "outputs": [],
   "source": [
    "# Access the first item in the list to get the tool\n",
    "func = response.choices[0].message.tool_calls[0]\n",
    "\n",
    "# Get the function name\n",
    "function_name = func.function.name\n",
    "\n",
    "# Parse the JSON in the 'arguments' and extract the 'meters' value\n",
    "arguments = json.loads(func.function.arguments)\n",
    "meters = arguments[\"meters\"]"
   ]
  },
  {
   "cell_type": "code",
   "execution_count": null,
   "id": "3001e591",
   "metadata": {},
   "outputs": [],
   "source": [
    "# Pass the function and obtain answers\n",
    "func_to_call = globals()[function_name]\n",
    "func_to_call(meters)"
   ]
  }
 ],
 "metadata": {
  "kernelspec": {
   "display_name": "Python 3",
   "language": "python",
   "name": "python3"
  },
  "language_info": {
   "codemirror_mode": {
    "name": "ipython",
    "version": 3
   },
   "file_extension": ".py",
   "mimetype": "text/x-python",
   "name": "python",
   "nbconvert_exporter": "python",
   "pygments_lexer": "ipython3",
   "version": "3.8.8"
  }
 },
 "nbformat": 4,
 "nbformat_minor": 5
}
