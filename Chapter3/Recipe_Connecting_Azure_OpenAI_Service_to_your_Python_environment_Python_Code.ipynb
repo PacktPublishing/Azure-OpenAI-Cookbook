{
 "cells": [
  {
   "cell_type": "code",
   "execution_count": null,
   "id": "8863364c",
   "metadata": {},
   "outputs": [],
   "source": [
    "# Pip Install OpenAI\n",
    "%pip install openai==1.24.0"
   ]
  },
  {
   "cell_type": "code",
   "execution_count": null,
   "id": "e60759ec",
   "metadata": {},
   "outputs": [],
   "source": [
    "# Pip Install Tiktoken\n",
    "%pip install tiktoken==0.6.0"
   ]
  },
  {
   "cell_type": "code",
   "execution_count": null,
   "id": "557588bb",
   "metadata": {},
   "outputs": [],
   "source": [
    "# OpenAI key\n",
    "openai_api_key = \"your-key-1\""
   ]
  },
  {
   "cell_type": "code",
   "execution_count": null,
   "id": "478f50e3",
   "metadata": {},
   "outputs": [],
   "source": [
    "# OpenAI Endpoint\n",
    "openai_api_url = \"your-endpoint\""
   ]
  },
  {
   "cell_type": "code",
   "execution_count": null,
   "id": "e2223d89",
   "metadata": {},
   "outputs": [],
   "source": [
    "# Production Code with Environment Variables\n",
    "import os\n",
    "os.environ[\"AZURE_OPENAI_API_KEY\"] = \"REPLACE_WITH_YOUR_KEY_VALUE\"\n",
    "os.environ[\"AZURE_OPENAI_ENDPOINT\"] = \"REPLACE_WITH_YOUR_ENDPOINT\""
   ]
  },
  {
   "cell_type": "code",
   "execution_count": null,
   "id": "29f4064a",
   "metadata": {},
   "outputs": [],
   "source": [
    "# Set your model deployments\n",
    "deployment_4 = \"your-gpt-4-model\"\n",
    "deployment_3_turbo = \"your-gpt-3.5-turbo-model\""
   ]
  },
  {
   "cell_type": "code",
   "execution_count": null,
   "id": "b039061b",
   "metadata": {},
   "outputs": [],
   "source": [
    "# Connect to Azure OpenAI\n",
    "from openai import AzureOpenAI\n",
    "client = AzureOpenAI(\n",
    " azure_endpoint = openai_api_url, \n",
    " api_key= openai_api_key, \n",
    " api_version= \"2024-02-01\"\n",
    ")"
   ]
  },
  {
   "cell_type": "code",
   "execution_count": null,
   "id": "47ee5a32",
   "metadata": {},
   "outputs": [],
   "source": [
    "# Create System and User Messages\n",
    "system_message = \"\"\"You are a translation assistant. A user will provide you with a text to translate between triple pluses\n",
    "(+++), a target language between triple stars (***), and context \n",
    "around the translation between triple ampersands (&&&).\"\"\"\n",
    "\n",
    "user_message = \"\"\"+++Dear customer, we regret to inform that the \n",
    "item you ordered is currently-out-of-stock.+++ ***Spanish*** \n",
    "&&&We are trying to send detailed yet polite e-mails to \n",
    "customers.&&&\"\"\""
   ]
  },
  {
   "cell_type": "code",
   "execution_count": null,
   "id": "608ec140",
   "metadata": {},
   "outputs": [],
   "source": [
    "# Create Messages Object\n",
    "messages = [\n",
    " {\"role\": \"system\", \"content\": system_message},\n",
    " {\"role\": \"user\", \"content\": user_message},\n",
    " ]"
   ]
  },
  {
   "cell_type": "code",
   "execution_count": null,
   "id": "80c0c3bd",
   "metadata": {},
   "outputs": [],
   "source": [
    "# Run chat\n",
    "results = client.chat.completions.create(\n",
    " model=deployment_4,\n",
    " messages=messages)"
   ]
  },
  {
   "cell_type": "code",
   "execution_count": null,
   "id": "f136297a",
   "metadata": {},
   "outputs": [],
   "source": [
    "# Obtain Results\n",
    "results_text = results.choices[0].message.content\n",
    "results_text"
   ]
  }
 ],
 "metadata": {
  "kernelspec": {
   "display_name": "Python 3",
   "language": "python",
   "name": "python3"
  },
  "language_info": {
   "codemirror_mode": {
    "name": "ipython",
    "version": 3
   },
   "file_extension": ".py",
   "mimetype": "text/x-python",
   "name": "python",
   "nbconvert_exporter": "python",
   "pygments_lexer": "ipython3",
   "version": "3.8.8"
  }
 },
 "nbformat": 4,
 "nbformat_minor": 5
}
