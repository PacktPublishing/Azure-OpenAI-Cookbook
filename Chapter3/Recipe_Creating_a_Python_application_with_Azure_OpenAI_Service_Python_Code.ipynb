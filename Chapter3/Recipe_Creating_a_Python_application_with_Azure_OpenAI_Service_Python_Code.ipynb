{
 "cells": [
  {
   "cell_type": "code",
   "execution_count": null,
   "id": "8863364c",
   "metadata": {},
   "outputs": [],
   "source": [
    "# Import Libraries\n",
    "import json\n",
    "import os\n",
    "import tiktoken\n",
    "import time\n",
    "from openai import AzureOpenAI"
   ]
  },
  {
   "cell_type": "code",
   "execution_count": null,
   "id": "e60759ec",
   "metadata": {},
   "outputs": [],
   "source": [
    "# Set the environment variables\n",
    "os.environ[\"AZURE_OPENAI_API_KEY\"] = \"REPLACE_WITH_YOUR_KEY_VALUE\"\n",
    "os.environ[\"AZURE_OPENAI_ENDPOINT\"] = \"REPLACE_WITH_YOUR_ENDPOINT\""
   ]
  },
  {
   "cell_type": "code",
   "execution_count": null,
   "id": "557588bb",
   "metadata": {},
   "outputs": [],
   "source": [
    "# Create a client object\n",
    "client = AzureOpenAI(\n",
    " azure_endpoint = os.getenv(\"AZURE_OPENAI_ENDPOINT\"), \n",
    " api_key=os.getenv(\"AZURE_OPENAI_API_KEY\"), \n",
    " api_version=\"2024-02-01\"\n",
    ")"
   ]
  },
  {
   "cell_type": "code",
   "execution_count": null,
   "id": "29f4064a",
   "metadata": {},
   "outputs": [],
   "source": [
    "# Set your model deployments\n",
    "deployment_4 = \"your-gpt-4-model\"\n",
    "deployment_3_turbo = \"your-gpt-3.5-turbo-model\""
   ]
  },
  {
   "cell_type": "code",
   "execution_count": null,
   "id": "b039061b",
   "metadata": {},
   "outputs": [],
   "source": [
    "# Define messages\n",
    "messages = [\n",
    "    {\"role\": \"system\", \"content\": \"You are a helpful assistant.\"},\n",
    "    {\"role\": \"user\", \"content\": \"Can I create a chatbot using Azure OpenAI to chat with my own data?\"},\n",
    "    {\"role\": \"assistant\", \"content\": \"Yes, you can use Azure OpenAI and Azure cognitive search to create a chatbot.\"},\n",
    "    {\"role\": \"user\", \"content\": \"Can you provide more information about Azure cognitive search?\"}\n",
    "]"
   ]
  },
  {
   "cell_type": "code",
   "execution_count": null,
   "id": "47ee5a32",
   "metadata": {},
   "outputs": [],
   "source": [
    "# Create System and User Messages\n",
    "system_message = \"\"\"You are a translation assistant. A user will provide you with a text to translate between triple pluses\n",
    "(+++), a target language between triple stars (***), and context \n",
    "around the translation between triple ampersands (&&&).\"\"\"\n",
    "\n",
    "user_message = \"\"\"+++Dear customer, we regret to inform that the \n",
    "item you ordered is currently-out-of-stock.+++ ***Spanish*** \n",
    "&&&We are trying to send detailed yet polite e-mails to \n",
    "customers.&&&\"\"\""
   ]
  },
  {
   "cell_type": "code",
   "execution_count": null,
   "id": "80c0c3bd",
   "metadata": {},
   "outputs": [],
   "source": [
    "# Run chat\n",
    "results = client.chat.completions.create(\n",
    " model=deployment_4,\n",
    " messages=messages)"
   ]
  },
  {
   "cell_type": "code",
   "execution_count": null,
   "id": "f136297a",
   "metadata": {},
   "outputs": [],
   "source": [
    "# Obtain Results\n",
    "results_text = results.choices[0].message.content\n",
    "print(results_text)"
   ]
  }
 ],
 "metadata": {
  "kernelspec": {
   "display_name": "Python 3",
   "language": "python",
   "name": "python3"
  },
  "language_info": {
   "codemirror_mode": {
    "name": "ipython",
    "version": 3
   },
   "file_extension": ".py",
   "mimetype": "text/x-python",
   "name": "python",
   "nbconvert_exporter": "python",
   "pygments_lexer": "ipython3",
   "version": "3.8.8"
  }
 },
 "nbformat": 4,
 "nbformat_minor": 5
}
